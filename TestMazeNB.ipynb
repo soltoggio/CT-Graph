{
 "cells": [
  {
   "cell_type": "code",
   "execution_count": 1,
   "metadata": {
    "scrolled": true
   },
   "outputs": [],
   "source": [
    "import numpy as np\n",
    "import gymnasium as gym\n",
    "from gym_CTgraph import CTgraph_env\n",
    "from gym_CTgraph.CTgraph_plot import CTgraph_plot\n",
    "from gym_CTgraph.CTgraph_conf import CTgraph_conf\n",
    "from gym_CTgraph.CTgraph_images import CTgraph_images\n",
    "import json\n",
    "\n",
    "from PIL import Image\n",
    "import matplotlib.pyplot as plt\n",
    "import matplotlib.image as mpimg"
   ]
  },
  {
   "cell_type": "code",
   "execution_count": 2,
   "metadata": {},
   "outputs": [],
   "source": [
    "def printout(p_obs, p_reward, p_act, p_done, p_info, p_counter):\n",
    "    \"\"\"Print out the navigation variable at each step\"\"\"\n",
    "    print(\"Feeding action: \", p_act)\n",
    "    print(\"Step:\", p_counter)\n",
    "    print(\"Observation: \", p_obs)\n",
    "    print(\"Reward: \", p_reward)\n",
    "    print(\"Done: \", p_done)\n",
    "    print(\"Info: \", p_info)"
   ]
  },
  {
   "cell_type": "code",
   "execution_count": 8,
   "metadata": {
    "scrolled": true
   },
   "outputs": [
    {
     "name": "stdout",
     "output_type": "stream",
     "text": [
      "---------------------------------------------------\n",
      "             The CT-graph environments             \n",
      "---------------------------------------------------\n",
      "Reading configuration parameters from  /home/cocp5/graph_test.json\n",
      "{\n",
      "   \"general_seed\": 3,\n",
      "   \"graph_shape\": {\n",
      "      \"d\": 2,\n",
      "      \"b\": 2,\n",
      "      \"p\": 0\n",
      "   },\n",
      "   \"reward\": {\n",
      "      \"high_r\": 1.0,\n",
      "      \"fail_r\": 0.0,\n",
      "      \"std_r\": 0.0,\n",
      "      \"reward_distribution\": \"needle_in_haystack\",\n",
      "      \"min_static_reward_episodes\": -1,\n",
      "      \"max_static_reward_episodes\": -1\n",
      "   },\n",
      "   \"observations\": {\n",
      "      \"MDP_D\": false,\n",
      "      \"MDP_W\": false,\n",
      "      \"W_IDs\": [\n",
      "         2,\n",
      "         2\n",
      "      ],\n",
      "      \"D_IDs\": [\n",
      "         3,\n",
      "         3\n",
      "      ],\n",
      "      \"graph_ends\": [\n",
      "         4,\n",
      "         4\n",
      "      ]\n",
      "   },\n",
      "   \"image_dataset\": {\n",
      "      \"seed\": 2,\n",
      "      \"1D\": false,\n",
      "      \"nr_of_images\": 40,\n",
      "      \"noise_on_read\": 0.05,\n",
      "      \"rotation_on_read\": 10\n",
      "   }\n",
      "}\n",
      "---------------------------------------------------\n",
      "             The CT-graph environments             \n",
      "---------------------------------------------------\n",
      "---------------------------------------------------\n",
      "This instance of CT-graph has\n",
      "- 2 sequential decision state(s)\n",
      "- 3 sequential wait states\n",
      "- 4 leaf nodes (ends)\n",
      "- 16 total states\n",
      "- 7 total wait states\n",
      "- 3 total decision points\n",
      "---------------------------------------------------\n"
     ]
    },
    {
     "name": "stderr",
     "output_type": "stream",
     "text": [
      "/home/cocp5/anaconda3/envs/ctGraph/lib/python3.9/site-packages/gymnasium/utils/passive_env_checker.py:31: UserWarning: \u001b[33mWARN: A Box observation space has an unconventional shape (neither an image, nor a 1D vector). We recommend flattening the observation to have only a 1D vector or use a custom policy to properly process the data. Actual observation shape: (12, 12)\u001b[0m\n",
      "  logger.warn(\n"
     ]
    }
   ],
   "source": [
    "# fetch the parameters from the json file\n",
    "configuration = CTgraph_conf(\"graph.json\")\n",
    "conf_data = configuration.getParameters()\n",
    "print(json.dumps(conf_data, indent=3))\n",
    "\n",
    "\n",
    "imageDataset = CTgraph_images(conf_data)\n",
    "env = gym.make('CTgraph-v1', conf_data=conf_data, images = imageDataset)\n",
    "\n",
    "print_results = True\n",
    "\n"
   ]
  },
  {
   "cell_type": "code",
   "execution_count": 11,
   "metadata": {
    "scrolled": true
   },
   "outputs": [
    {
     "name": "stdout",
     "output_type": "stream",
     "text": [
      "*--- Testing script ----*\n",
      "We set the high reward path to:  [1 1]\n",
      "*--- Running test ------*\n",
      "Feeding action:  0\n",
      "Step: 0\n",
      "Observation:  [[  0   0  21 118 205 212 147 103  48  10   0   0]\n",
      " [  0   0  11  43 121 148 128 122  76  15   0   0]\n",
      " [ 10  15   0  12 113 208 166 113  41   0   0   0]\n",
      " [ 48  76  41  55 192 251 229 118   7   0   0   0]\n",
      " [103 122  98  73 197 253 210  46   0   3  22   0]\n",
      " [104 123  86  20  42 148 104   0   1  60 158  71]\n",
      " [ 35 104  43   1   0 104 148  42  34 172 247 209]\n",
      " [ 11 131 139  60  55 210 253 202 133 215 249 207]\n",
      " [ 68 209 240 197 178 232 251 222 158 167 193 106]\n",
      " [101 209 250 211 154 166 213 172 130 124 104  34]\n",
      " [ 27 100 161 158 129 128 101  82 104 104  50   4]\n",
      " [  0   9  36  66 103 104  35   5  33  50  13   0]]\n",
      "Reward:  0\n",
      "Done:  False\n",
      "Info:  {'state': 'Home'}\n"
     ]
    }
   ],
   "source": [
    "high_reward_path = np.array(np.random.randint(1, conf_data['graph_shape']['b'], size=conf_data['graph_shape']['d']))\n",
    "env.set_high_reward_path(high_reward_path)\n",
    "\n",
    "print(\"*--- Testing script ----*\")\n",
    "print(\"We set the high reward path to: \", env.get_high_reward_path() )\n",
    "print(\"*--- Running test ------*\")\n",
    "\n",
    "action = 0\n",
    "counter = 0\n",
    "reward = 0\n",
    "done = False\n",
    "info = {'state': 'Home'}\n",
    "\n",
    "(observation, _) = env.reset()\n",
    "\n",
    "printout(observation, reward, action, done, info, counter)"
   ]
  },
  {
   "cell_type": "code",
   "execution_count": 12,
   "metadata": {},
   "outputs": [
    {
     "name": "stdin",
     "output_type": "stream",
     "text": [
      "Action:  0\n"
     ]
    },
    {
     "name": "stderr",
     "output_type": "stream",
     "text": [
      "/home/cocp5/anaconda3/envs/ctGraph/lib/python3.9/site-packages/gymnasium/utils/passive_env_checker.py:233: DeprecationWarning: `np.bool8` is a deprecated alias for `np.bool_`.  (Deprecated NumPy 1.24)\n",
      "  if not isinstance(terminated, (bool, np.bool8)):\n"
     ]
    },
    {
     "name": "stdout",
     "output_type": "stream",
     "text": [
      "Feeding action:  0\n",
      "Step: 1\n",
      "Observation:  [[ 39 109 155 186 217 247 198 109  69  59  51  19]\n",
      " [ 91 205 246 253 253 253 208 144 126 121 111  54]\n",
      " [ 76 161 175 184 203 232 193 117 115 123 126  77]\n",
      " [ 69 126 128 133 136 122  78  41  70 127 174 122]\n",
      " [109 144 131 126 126 113  45   0  20 151 236 198]\n",
      " [198 208 202 191 172 138  25  12  19 210 253 247]\n",
      " [247 253 253 243 240 227 114  80  54 146 163 172]\n",
      " [179 220 247 253 253 207 138 126  84  24  37  43]\n",
      " [ 58  96 113 132 169 164 134 126  71  14   0   0]\n",
      " [  0   0   5  21  34  84 126 128 113  99  78  32]\n",
      " [  0   0   0   0  18  81 126 142 204 238 185  79]\n",
      " [  0   0   0   0  21  85 123 126 156 155 109  39]]\n",
      "Reward:  0.0\n",
      "Done:  False\n",
      "Info:  {'state': '1'}\n"
     ]
    },
    {
     "name": "stdin",
     "output_type": "stream",
     "text": [
      "Action:  0\n"
     ]
    },
    {
     "name": "stdout",
     "output_type": "stream",
     "text": [
      "Feeding action:  0\n",
      "Step: 2\n",
      "Observation:  [[  0   9  77 189 166 123 126 119  82  23   4   0]\n",
      " [  5  62 200 248 237 184 128 126 124 109  59   9]\n",
      " [ 46 184 247 253 252 243 193 132 148 213 200  77]\n",
      " [165 244 253 253 253 252 247 200 191 253 247 176]\n",
      " [240 253 253 253 253 253 238 104  81 220 220  97]\n",
      " [253 253 253 253 253 249 116   0   1  60 113   0]\n",
      " [248 253 253 253 253 136   3   0   0   0   0   0]\n",
      " [235 253 253 253 153  14   0   0   0   0   0   0]\n",
      " [203 250 253 169  29   0   0   0   0   0   0   0]\n",
      " [ 77 200 177  44   2   0   1   1   0   0   0   0]\n",
      " [  9  54  34   4   0  49  93  31   3   0   0   0]\n",
      " [  0   3   1   0  39 186 245 137  26   0   0   0]]\n",
      "Reward:  0.0\n",
      "Done:  False\n",
      "Info:  {'state': '2'}\n"
     ]
    },
    {
     "name": "stdin",
     "output_type": "stream",
     "text": [
      "Action:  1\n"
     ]
    },
    {
     "name": "stdout",
     "output_type": "stream",
     "text": [
      "Feeding action:  1\n",
      "Step: 3\n",
      "Observation:  [[ 35  99 143 178 213 248 190 102  72  65  57  17]\n",
      " [104 213 247 253 253 253 201 141 126 121 113  49]\n",
      " [ 87 168 181 189 206 234 184 114 114 123 126  71]\n",
      " [ 72 126 128 135 138 121  75  40  69 130 181 121]\n",
      " [102 141 130 126 126 111  43   0  23 157 239 201]\n",
      " [190 201 195 186 170 137  25  14  21 215 253 248]\n",
      " [248 253 253 242 238 227 115  82  56 132 150 160]\n",
      " [188 225 247 253 253 209 140 126  85  25  30  31]\n",
      " [ 64 108 126 139 170 165 136 126  74  16   0   0]\n",
      " [  0   0   5  23  37  80 126 128 120 113  92  43]\n",
      " [  0   0   0   0  15  74 126 139 198 242 197  93]\n",
      " [  0   0   0   0  15  80 123 119 146 143  99  35]]\n",
      "Reward:  0.0\n",
      "Done:  False\n",
      "Info:  {'state': '1'}\n"
     ]
    },
    {
     "name": "stdin",
     "output_type": "stream",
     "text": [
      "Action:  0\n"
     ]
    },
    {
     "name": "stdout",
     "output_type": "stream",
     "text": [
      "Feeding action:  0\n",
      "Step: 4\n",
      "Observation:  [[  0  11  86 179 156 123 126 117  78  26   5   0]\n",
      " [  6  69 198 246 231 178 128 126 125 113  66  11]\n",
      " [ 50 178 246 253 251 240 189 135 156 216 198  86]\n",
      " [156 242 253 253 253 252 244 197 189 253 244 162]\n",
      " [236 253 253 253 253 253 233 100  81 210 209  82]\n",
      " [253 253 253 253 253 248 114   0   1  56 101   0]\n",
      " [247 253 253 253 253 138   4   0   0   0   0   0]\n",
      " [229 253 253 253 159  19   0   0   0   0   0   0]\n",
      " [196 249 253 177  38   0   0   0   0   0   0   0]\n",
      " [ 86 198 186  59   3   0   2   2   0   0   0   0]\n",
      " [ 11  63  47   8   0  43  91  42   5   0   0   0]\n",
      " [  0   4   2   0  33 167 244 147  34   0   0   0]]\n",
      "Reward:  0.0\n",
      "Done:  False\n",
      "Info:  {'state': '2'}\n"
     ]
    },
    {
     "name": "stdin",
     "output_type": "stream",
     "text": [
      "Action:  1\n"
     ]
    },
    {
     "name": "stdout",
     "output_type": "stream",
     "text": [
      "Feeding action:  1\n",
      "Step: 5\n",
      "Observation:  [[  0 149 253 253 253 253 253 170  64  27   0   0]\n",
      " [  0 166 226 253 253 253 253 175 126 126 111  74]\n",
      " [ 27 126 126 141 178 215 253 138 126 126 126 126]\n",
      " [ 64 126 126 126 126 126 100  41  78 118 126 126]\n",
      " [170 175 138 126 126 126  58   0   0 103 222 185]\n",
      " [253 253 253 222 185 148  21   0   0 177 253 253]\n",
      " [253 253 253 253 253 232 105  68  37 252 253 253]\n",
      " [116 190 253 253 253 195 126 126  85  22  96 137]\n",
      " [  0   0  21  96 170 156 126 126  48   0   0   0]\n",
      " [  0   0   0   0  11 126 126 126  37   0   0   0]\n",
      " [  0   0   0   0  48 126 126 158 253 198 109   0]\n",
      " [  0   0   0   0  68 126 126 195 253 253 149   0]]\n",
      "Reward:  0.0\n",
      "Done:  False\n",
      "Info:  {'state': '1'}\n"
     ]
    },
    {
     "name": "stdin",
     "output_type": "stream",
     "text": [
      "Action:  0\n"
     ]
    },
    {
     "name": "stdout",
     "output_type": "stream",
     "text": [
      "Feeding action:  0\n",
      "Step: 6\n",
      "Observation:  [[ 25  55  95 144 142 129 126 126 126 126  71  12]\n",
      " [144 185 216 238 198 142 123 118 122 126  92  27]\n",
      " [253 253 253 253 220 152  93  78 100 126 107  47]\n",
      " [244 227 187   0   0   0   0   0   0 126 118  71]\n",
      " [192 162 103   0   0   0   0   0   0 158 177 163]\n",
      " [126 123  93   0   0   0   0   0   0 209 236 244]\n",
      " [129 142 152   0   0   0   0   0   0 188 247 253]\n",
      " [142 198 220   0   0   0   0   0   0 131 195 187]\n",
      " [144 238 253   0   0   0   0   0   0 114 140 134]\n",
      " [ 94 206 227 223 240 253 221 158 126 126 126 126]\n",
      " [ 45 138 166 167 213 253 236 177 118 107  92  71]\n",
      " [ 12  71 126 134 187 253 244 163  71  47  27  12]]\n",
      "Reward:  0.0\n",
      "Done:  False\n",
      "Info:  {'state': '3'}\n"
     ]
    },
    {
     "name": "stdin",
     "output_type": "stream",
     "text": [
      "Action:  0\n"
     ]
    },
    {
     "name": "stdout",
     "output_type": "stream",
     "text": [
      "Feeding action:  0\n",
      "Step: 7\n",
      "Observation:  [[  0   0  15  94 205 227 168 111  61  10   0   0]\n",
      " [  0   0   3  20  78 158 127 124  98  32   0   0]\n",
      " [ 10  32   0   7  78 217 174 121  61   0   0   0]\n",
      " [ 61  98  61  40 190 252 240 145  10   0   0   0]\n",
      " [111 124 110  65 191 253 228  56   0   1  13   0]\n",
      " [ 83 124  78  10  24 147 105   0   0  34 110  40]\n",
      " [ 20  93  35   0   0 105 147  24  19 157 249 167]\n",
      " [ 23 174 174  62  61 228 253 194 122 231 251 223]\n",
      " [117 232 245 212 186 241 252 221 152 188 219 126]\n",
      " [ 98 215 250 191 141 174 224 161 129 124 120  30]\n",
      " [ 22  82 146 140 127 127  89  97 116 107  40   4]\n",
      " [  0   8  27  66 111  83  20  11  58  49  11   0]]\n",
      "Reward:  0.0\n",
      "Done:  True\n",
      "Info:  {'state': '0'}\n"
     ]
    }
   ],
   "source": [
    "while not done:\n",
    "    action = int(input(\"Action: \"))\n",
    "    observation, reward, done, _, info = env.step(action)\n",
    "    counter = counter  + 1\n",
    "    if print_results:\n",
    "        printout(observation, reward, action, done, info, counter)"
   ]
  },
  {
   "cell_type": "code",
   "execution_count": null,
   "metadata": {},
   "outputs": [],
   "source": []
  }
 ],
 "metadata": {
  "kernelspec": {
   "display_name": "Python 3 (ipykernel)",
   "language": "python",
   "name": "python3"
  },
  "language_info": {
   "codemirror_mode": {
    "name": "ipython",
    "version": 3
   },
   "file_extension": ".py",
   "mimetype": "text/x-python",
   "name": "python",
   "nbconvert_exporter": "python",
   "pygments_lexer": "ipython3",
   "version": "3.9.16"
  }
 },
 "nbformat": 4,
 "nbformat_minor": 4
}
