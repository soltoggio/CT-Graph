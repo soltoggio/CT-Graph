{
 "cells": [
  {
   "cell_type": "code",
   "execution_count": null,
   "id": "3eb35da8-4670-44bd-8bd5-c934e1d98283",
   "metadata": {},
   "outputs": [],
   "source": [
    "import os"
   ]
  },
  {
   "cell_type": "code",
   "execution_count": null,
   "id": "69ee1af5-ff4b-4343-966c-fa8ab8ab70fe",
   "metadata": {},
   "outputs": [],
   "source": [
    "os.environ"
   ]
  },
  {
   "cell_type": "code",
   "execution_count": null,
   "id": "3e7ae87d-06fc-4ab7-994d-32eeb8a7b879",
   "metadata": {},
   "outputs": [],
   "source": [
    "migs= 'MIG-c3ce33ce-ced8-5961-bb87-2b40eb100277,MIG-280489c4-1d98-5b07-b4f6-2fc85fc874fa,MIG-c432df19-0894-5232-ac1c-9a3440fc267e,MIG-e8f61a95-352a-56cc-b95d-0c35fc14e8bf'"
   ]
  },
  {
   "cell_type": "code",
   "execution_count": null,
   "id": "44ad8724-9f7a-4aed-86ad-85cd7c576c5a",
   "metadata": {},
   "outputs": [],
   "source": [
    "env = dict(os.environ)"
   ]
  },
  {
   "cell_type": "code",
   "execution_count": null,
   "id": "864cbb81-726d-47f7-83ec-a47df00b95da",
   "metadata": {},
   "outputs": [],
   "source": [
    "env['CUDA_VISIBLE_DEVICES']=migs"
   ]
  },
  {
   "cell_type": "code",
   "execution_count": null,
   "id": "5c34ffce-4781-40fd-a9ac-eff59e4271dc",
   "metadata": {},
   "outputs": [],
   "source": [
    "os.environ = env"
   ]
  },
  {
   "cell_type": "code",
   "execution_count": null,
   "id": "fcce5e14-bad9-436b-ae05-65a4f2c478ca",
   "metadata": {},
   "outputs": [],
   "source": [
    "os.environ"
   ]
  },
  {
   "cell_type": "code",
   "execution_count": 1,
   "id": "1c395110-6a5b-4162-9d75-7fe11bee2385",
   "metadata": {},
   "outputs": [
    {
     "name": "stderr",
     "output_type": "stream",
     "text": [
      "2023-02-24 18:34:09,244\tINFO worker.py:1529 -- Started a local Ray instance. View the dashboard at \u001b[1m\u001b[32m127.0.0.1:8266 \u001b[39m\u001b[22m\n"
     ]
    },
    {
     "data": {
      "text/html": [
       "<div>\n",
       "    <div style=\"margin-left: 50px;display: flex;flex-direction: row;align-items: center\">\n",
       "        <h3 style=\"color: var(--jp-ui-font-color0)\">Ray</h3>\n",
       "        <svg version=\"1.1\" id=\"ray\" width=\"3em\" viewBox=\"0 0 144.5 144.6\" style=\"margin-left: 3em;margin-right: 3em\">\n",
       "            <g id=\"layer-1\">\n",
       "                <path fill=\"#00a2e9\" class=\"st0\" d=\"M97.3,77.2c-3.8-1.1-6.2,0.9-8.3,5.1c-3.5,6.8-9.9,9.9-17.4,9.6S58,88.1,54.8,81.2c-1.4-3-3-4-6.3-4.1\n",
       "                    c-5.6-0.1-9.9,0.1-13.1,6.4c-3.8,7.6-13.6,10.2-21.8,7.6C5.2,88.4-0.4,80.5,0,71.7c0.1-8.4,5.7-15.8,13.8-18.2\n",
       "                    c8.4-2.6,17.5,0.7,22.3,8c1.3,1.9,1.3,5.2,3.6,5.6c3.9,0.6,8,0.2,12,0.2c1.8,0,1.9-1.6,2.4-2.8c3.5-7.8,9.7-11.8,18-11.9\n",
       "                    c8.2-0.1,14.4,3.9,17.8,11.4c1.3,2.8,2.9,3.6,5.7,3.3c1-0.1,2,0.1,3,0c2.8-0.5,6.4,1.7,8.1-2.7s-2.3-5.5-4.1-7.5\n",
       "                    c-5.1-5.7-10.9-10.8-16.1-16.3C84,38,81.9,37.1,78,38.3C66.7,42,56.2,35.7,53,24.1C50.3,14,57.3,2.8,67.7,0.5\n",
       "                    C78.4-2,89,4.7,91.5,15.3c0.1,0.3,0.1,0.5,0.2,0.8c0.7,3.4,0.7,6.9-0.8,9.8c-1.7,3.2-0.8,5,1.5,7.2c6.7,6.5,13.3,13,19.8,19.7\n",
       "                    c1.8,1.8,3,2.1,5.5,1.2c9.1-3.4,17.9-0.6,23.4,7c4.8,6.9,4.6,16.1-0.4,22.9c-5.4,7.2-14.2,9.9-23.1,6.5c-2.3-0.9-3.5-0.6-5.1,1.1\n",
       "                    c-6.7,6.9-13.6,13.7-20.5,20.4c-1.8,1.8-2.5,3.2-1.4,5.9c3.5,8.7,0.3,18.6-7.7,23.6c-7.9,5-18.2,3.8-24.8-2.9\n",
       "                    c-6.4-6.4-7.4-16.2-2.5-24.3c4.9-7.8,14.5-11,23.1-7.8c3,1.1,4.7,0.5,6.9-1.7C91.7,98.4,98,92.3,104.2,86c1.6-1.6,4.1-2.7,2.6-6.2\n",
       "                    c-1.4-3.3-3.8-2.5-6.2-2.6C99.8,77.2,98.9,77.2,97.3,77.2z M72.1,29.7c5.5,0.1,9.9-4.3,10-9.8c0-0.1,0-0.2,0-0.3\n",
       "                    C81.8,14,77,9.8,71.5,10.2c-5,0.3-9,4.2-9.3,9.2c-0.2,5.5,4,10.1,9.5,10.3C71.8,29.7,72,29.7,72.1,29.7z M72.3,62.3\n",
       "                    c-5.4-0.1-9.9,4.2-10.1,9.7c0,0.2,0,0.3,0,0.5c0.2,5.4,4.5,9.7,9.9,10c5.1,0.1,9.9-4.7,10.1-9.8c0.2-5.5-4-10-9.5-10.3\n",
       "                    C72.6,62.3,72.4,62.3,72.3,62.3z M115,72.5c0.1,5.4,4.5,9.7,9.8,9.9c5.6-0.2,10-4.8,10-10.4c-0.2-5.4-4.6-9.7-10-9.7\n",
       "                    c-5.3-0.1-9.8,4.2-9.9,9.5C115,72.1,115,72.3,115,72.5z M19.5,62.3c-5.4,0.1-9.8,4.4-10,9.8c-0.1,5.1,5.2,10.4,10.2,10.3\n",
       "                    c5.6-0.2,10-4.9,9.8-10.5c-0.1-5.4-4.5-9.7-9.9-9.6C19.6,62.3,19.5,62.3,19.5,62.3z M71.8,134.6c5.9,0.2,10.3-3.9,10.4-9.6\n",
       "                    c0.5-5.5-3.6-10.4-9.1-10.8c-5.5-0.5-10.4,3.6-10.8,9.1c0,0.5,0,0.9,0,1.4c-0.2,5.3,4,9.8,9.3,10\n",
       "                    C71.6,134.6,71.7,134.6,71.8,134.6z\"/>\n",
       "            </g>\n",
       "        </svg>\n",
       "        <table>\n",
       "            <tr>\n",
       "                <td style=\"text-align: left\"><b>Python version:</b></td>\n",
       "                <td style=\"text-align: left\"><b>3.9.16</b></td>\n",
       "            </tr>\n",
       "            <tr>\n",
       "                <td style=\"text-align: left\"><b>Ray version:</b></td>\n",
       "                <td style=\"text-align: left\"><b> 2.2.0</b></td>\n",
       "            </tr>\n",
       "            <tr>\n",
       "    <td style=\"text-align: left\"><b>Dashboard:</b></td>\n",
       "    <td style=\"text-align: left\"><b><a href=\"http://127.0.0.1:8266\" target=\"_blank\">http://127.0.0.1:8266</a></b></td>\n",
       "</tr>\n",
       "\n",
       "        </table>\n",
       "    </div>\n",
       "</div>\n"
      ],
      "text/plain": [
       "RayContext(dashboard_url='127.0.0.1:8266', python_version='3.9.16', ray_version='2.2.0', ray_commit='b6af0887ee5f2e460202133791ad941a41f15beb', address_info={'node_ip_address': '158.125.168.72', 'raylet_ip_address': '158.125.168.72', 'redis_address': None, 'object_store_address': '/tmp/ray/session_2023-02-24_18-34-04_247203_2249418/sockets/plasma_store', 'raylet_socket_name': '/tmp/ray/session_2023-02-24_18-34-04_247203_2249418/sockets/raylet', 'webui_url': '127.0.0.1:8266', 'session_dir': '/tmp/ray/session_2023-02-24_18-34-04_247203_2249418', 'metrics_export_port': 60606, 'gcs_address': '158.125.168.72:56282', 'address': '158.125.168.72:56282', 'dashboard_agent_listen_port': 52365, 'node_id': '590babde0729cd479c4aedc4576a710039076c370f2ff98eeb2afc24'})"
      ]
     },
     "execution_count": 1,
     "metadata": {},
     "output_type": "execute_result"
    }
   ],
   "source": [
    "import os\n",
    "import ray\n",
    "\n",
    "# Set CUDA_VISIBLE_DEVICES to control which GPUs are visible to Ray\n",
    "os.environ[\"CUDA_VISIBLE_DEVICES\"] = \"0,1,2,3,4,5,6\"\n",
    "\n",
    "# Initialize Ray with the appropriate configuration\n",
    "ray.init(\n",
    "    num_cpus=4,\n",
    "    num_gpus=7,\n",
    "    resources={\n",
    "        \"gpu\": 1\n",
    "    },\n",
    "    _system_config={\n",
    "        \"num_heartbeats_timeout\": 120  # Increase heartbeat timeout to avoid spurious errors\n",
    "    }\n",
    ")\n"
   ]
  },
  {
   "cell_type": "code",
   "execution_count": 2,
   "id": "b80f44a6-e129-4e02-b394-ae99d0c8d8d4",
   "metadata": {},
   "outputs": [
    {
     "name": "stdout",
     "output_type": "stream",
     "text": [
      "{'GPU': 7.0, 'accelerator_type:A100': 1.0, 'node:158.125.168.72': 1.0, 'gpu': 1.0, 'memory': 153521763328.0, 'object_store_memory': 70080755712.0, 'CPU': 64.0}\n"
     ]
    }
   ],
   "source": [
    "resources = ray.cluster_resources()\n",
    "print(resources)\n"
   ]
  },
  {
   "cell_type": "code",
   "execution_count": 3,
   "id": "939af842",
   "metadata": {},
   "outputs": [
    {
     "name": "stdout",
     "output_type": "stream",
     "text": [
      "WARNING:tensorflow:From /home/lunet/cocp5/.conda/envs/rllib20a/lib/python3.9/site-packages/tensorflow/python/util/deprecation.py:561: calling function (from tensorflow.python.eager.def_function) with experimental_relax_shapes is deprecated and will be removed in a future version.\n",
      "Instructions for updating:\n",
      "experimental_relax_shapes is deprecated, use reduce_retracing instead\n"
     ]
    },
    {
     "name": "stderr",
     "output_type": "stream",
     "text": [
      "/home/lunet/cocp5/.conda/envs/rllib20a/lib/python3.9/site-packages/tensorflow_probability/python/__init__.py:61: DeprecationWarning: distutils Version classes are deprecated. Use packaging.version instead.\n",
      "  if (distutils.version.LooseVersion(tf.__version__) <\n"
     ]
    }
   ],
   "source": [
    "import numpy as np\n",
    "import gym\n",
    "from gym_CTgraph import CTgraph_env\n",
    "from gym_CTgraph.CTgraph_plot import CTgraph_plot\n",
    "from gym_CTgraph.CTgraph_conf import CTgraph_conf\n",
    "from gym_CTgraph.CTgraph_images import CTgraph_images\n",
    "import json\n",
    "import argparse\n",
    "#import json\n",
    "import random\n",
    "import matplotlib.pyplot as plt\n",
    "import timeit\n",
    "\n",
    "from gym.spaces import Box, Discrete, Dict\n",
    "from ray.tune.registry import register_env\n",
    "from ray import tune\n",
    "\n",
    "from PIL import Image\n",
    "import matplotlib.pyplot as plt\n",
    "import matplotlib.image as mpimg\n",
    "\n",
    "import argparse\n",
    "import gym\n",
    "from gym.spaces import Discrete, Box\n",
    "import numpy as np\n",
    "#import os\n",
    "import random\n",
    "\n",
    "import ray\n",
    "from ray import tune\n",
    "from ray.rllib.agents import ppo\n",
    "from ray.rllib.env.env_context import EnvContext\n",
    "from ray.rllib.models import ModelCatalog\n",
    "from ray.rllib.models.tf.tf_modelv2 import TFModelV2\n",
    "from ray.rllib.models.tf.fcnet import FullyConnectedNetwork\n",
    "from ray.rllib.models.torch.torch_modelv2 import TorchModelV2\n",
    "from ray.rllib.models.torch.fcnet import FullyConnectedNetwork as TorchFC\n",
    "from ray.rllib.utils.framework import try_import_tf, try_import_torch\n",
    "from ray.rllib.utils.test_utils import check_learning_achieved\n",
    "from ray.tune.logger import pretty_print"
   ]
  },
  {
   "cell_type": "code",
   "execution_count": 4,
   "id": "51502519-f453-4da2-9311-c81f67f0d7c7",
   "metadata": {},
   "outputs": [
    {
     "data": {
      "text/plain": [
       "'import ray\\nray.init()\\nresources = ray.cluster_resources()\\nprint(resources)'"
      ]
     },
     "execution_count": 4,
     "metadata": {},
     "output_type": "execute_result"
    }
   ],
   "source": [
    "'''import ray\n",
    "ray.init()\n",
    "resources = ray.cluster_resources()\n",
    "print(resources)'''\n"
   ]
  },
  {
   "cell_type": "code",
   "execution_count": 5,
   "id": "7a94b421",
   "metadata": {},
   "outputs": [],
   "source": [
    "from ray import tune"
   ]
  },
  {
   "cell_type": "code",
   "execution_count": 6,
   "id": "a3278362",
   "metadata": {},
   "outputs": [],
   "source": [
    "def env_creator(env_config={}):\n",
    "    # fetch the parameters from the json file\n",
    "    configuration = CTgraph_conf(\"/home/lunet/cocp5/Documents/rllib20/graph09.json\")\n",
    "    conf_data = configuration.getParameters()\n",
    "    # print configration data\n",
    "    print(json.dumps(conf_data, indent=3))\n",
    "    env = gym.make('CTgraph-v0')\n",
    "    # instantiate the maze\n",
    "    #start = timeit.timeit()\n",
    "    #env = gym.make('CTgraph-v0')\n",
    "    #end = timeit.timeit()\n",
    "    #print(end - start)\n",
    "\n",
    "    imageDataset = CTgraph_images(conf_data)\n",
    "    observation = env.init(conf_data, imageDataset)\n",
    "\n",
    "    # get a random path from the maze\n",
    "    #high_reward_path = np.array(np.random.randint(1, conf_data['graph_shape']['branching_factor'], size=conf_data['graph_shape']['depth']))\n",
    "    # use this random path to set the path to the high reward. Note that the maze would have already a high_reward_path from the initialisation\n",
    "    #env.set_high_reward_path(high_reward_path)\n",
    "    #seed_everything(env)  \n",
    "    \n",
    "    return env"
   ]
  },
  {
   "cell_type": "code",
   "execution_count": 7,
   "id": "31213ad4",
   "metadata": {},
   "outputs": [],
   "source": [
    "register_env(\"CT-Graph_d2_b2_wp05_crv0_MDP\", env_creator)"
   ]
  },
  {
   "cell_type": "code",
   "execution_count": null,
   "id": "e3129fc7",
   "metadata": {
    "scrolled": true
   },
   "outputs": [
    {
     "data": {
      "text/html": [
       "<div class=\"tuneStatus\">\n",
       "  <div style=\"display: flex;flex-direction: row\">\n",
       "    <div style=\"display: flex;flex-direction: column;\">\n",
       "      <h3>Tune Status</h3>\n",
       "      <table>\n",
       "<tbody>\n",
       "<tr><td>Current time:</td><td>2023-02-24 18:45:08</td></tr>\n",
       "<tr><td>Running for: </td><td>00:10:52.91        </td></tr>\n",
       "<tr><td>Memory:      </td><td>18.2/251.5 GiB     </td></tr>\n",
       "</tbody>\n",
       "</table>\n",
       "    </div>\n",
       "    <div class=\"vDivider\"></div>\n",
       "    <div class=\"systemInfo\">\n",
       "      <h3>System Info</h3>\n",
       "      Using FIFO scheduling algorithm.<br>Resources requested: 2.0/64 CPUs, 0/7 GPUs, 0.0/142.98 GiB heap, 0.0/65.27 GiB objects (0.0/1.0 accelerator_type:A100, 0.0/1.0 gpu)\n",
       "    </div>\n",
       "    \n",
       "  </div>\n",
       "  <div class=\"hDivider\"></div>\n",
       "  <div class=\"trialStatus\">\n",
       "    <h3>Trial Status</h3>\n",
       "    <table>\n",
       "<thead>\n",
       "<tr><th>Trial name                                  </th><th>status  </th><th>loc                   </th><th style=\"text-align: right;\">  iter</th><th style=\"text-align: right;\">  total time (s)</th><th style=\"text-align: right;\">    ts</th><th style=\"text-align: right;\">  reward</th><th style=\"text-align: right;\">  episode_reward_max</th><th style=\"text-align: right;\">  episode_reward_min</th><th style=\"text-align: right;\">  episode_len_mean</th></tr>\n",
       "</thead>\n",
       "<tbody>\n",
       "<tr><td>PPO_CT-Graph_d2_b2_wp05_crv0_MDP_d76fc_00000</td><td>RUNNING </td><td>158.125.168.72:2262405</td><td style=\"text-align: right;\">   621</td><td style=\"text-align: right;\">         615.703</td><td style=\"text-align: right;\">317952</td><td style=\"text-align: right;\">       0</td><td style=\"text-align: right;\">                   0</td><td style=\"text-align: right;\">                   0</td><td style=\"text-align: right;\">            2.9883</td></tr>\n",
       "</tbody>\n",
       "</table>\n",
       "  </div>\n",
       "</div>\n",
       "<style>\n",
       ".tuneStatus {\n",
       "  color: var(--jp-ui-font-color1);\n",
       "}\n",
       ".tuneStatus .systemInfo {\n",
       "  display: flex;\n",
       "  flex-direction: column;\n",
       "}\n",
       ".tuneStatus td {\n",
       "  white-space: nowrap;\n",
       "}\n",
       ".tuneStatus .trialStatus {\n",
       "  display: flex;\n",
       "  flex-direction: column;\n",
       "}\n",
       ".tuneStatus h3 {\n",
       "  font-weight: bold;\n",
       "}\n",
       ".tuneStatus .hDivider {\n",
       "  border-bottom-width: var(--jp-border-width);\n",
       "  border-bottom-color: var(--jp-border-color0);\n",
       "  border-bottom-style: solid;\n",
       "}\n",
       ".tuneStatus .vDivider {\n",
       "  border-left-width: var(--jp-border-width);\n",
       "  border-left-color: var(--jp-border-color0);\n",
       "  border-left-style: solid;\n",
       "  margin: 0.5em 1em 0.5em 1em;\n",
       "}\n",
       "</style>\n"
      ],
      "text/plain": [
       "<IPython.core.display.HTML object>"
      ]
     },
     "metadata": {},
     "output_type": "display_data"
    },
    {
     "name": "stderr",
     "output_type": "stream",
     "text": [
      "2023-02-24 18:34:15,720\tWARNING deprecation.py:47 -- DeprecationWarning: `AlgorithmConfig.evaluation(evaluation_num_episodes=..)` has been deprecated. Use `AlgorithmConfig.evaluation(evaluation_duration=.., evaluation_duration_unit='episodes')` instead. This will raise an error in the future!\n",
      "\u001b[2m\u001b[36m(pid=2262405)\u001b[0m /home/lunet/cocp5/.conda/envs/rllib20a/lib/python3.9/site-packages/tensorflow_probability/python/__init__.py:61: DeprecationWarning: distutils Version classes are deprecated. Use packaging.version instead.\n",
      "\u001b[2m\u001b[36m(pid=2262405)\u001b[0m   if (distutils.version.LooseVersion(tf.__version__) <\n",
      "\u001b[2m\u001b[36m(pid=2262405)\u001b[0m WARNING:tensorflow:From /home/lunet/cocp5/.conda/envs/rllib20a/lib/python3.9/site-packages/tensorflow/python/util/deprecation.py:561: calling function (from tensorflow.python.eager.def_function) with experimental_relax_shapes is deprecated and will be removed in a future version.\n",
      "\u001b[2m\u001b[36m(pid=2262405)\u001b[0m Instructions for updating:\n",
      "\u001b[2m\u001b[36m(pid=2262405)\u001b[0m experimental_relax_shapes is deprecated, use reduce_retracing instead\n",
      "\u001b[2m\u001b[36m(PPO pid=2262405)\u001b[0m 2023-02-24 18:34:21,627\tWARNING algorithm_config.py:488 -- Cannot create PPOConfig from given `config_dict`! Property __stdout_file__ not supported.\n",
      "\u001b[2m\u001b[36m(PPO pid=2262405)\u001b[0m 2023-02-24 18:34:21,627\tWARNING deprecation.py:47 -- DeprecationWarning: `AlgorithmConfig.evaluation(evaluation_num_episodes=..)` has been deprecated. Use `AlgorithmConfig.evaluation(evaluation_duration=.., evaluation_duration_unit='episodes')` instead. This will raise an error in the future!\n",
      "\u001b[2m\u001b[36m(PPO pid=2262405)\u001b[0m 2023-02-24 18:34:21,819\tINFO algorithm.py:501 -- Current log_level is WARN. For more information, set 'log_level': 'INFO' / 'DEBUG' or use the -v and -vv flags.\n",
      "\u001b[2m\u001b[36m(pid=2262938)\u001b[0m /home/lunet/cocp5/.conda/envs/rllib20a/lib/python3.9/site-packages/tensorflow_probability/python/__init__.py:61: DeprecationWarning: distutils Version classes are deprecated. Use packaging.version instead.\n",
      "\u001b[2m\u001b[36m(pid=2262938)\u001b[0m   if (distutils.version.LooseVersion(tf.__version__) <\n",
      "\u001b[2m\u001b[36m(pid=2262938)\u001b[0m WARNING:tensorflow:From /home/lunet/cocp5/.conda/envs/rllib20a/lib/python3.9/site-packages/tensorflow/python/util/deprecation.py:561: calling function (from tensorflow.python.eager.def_function) with experimental_relax_shapes is deprecated and will be removed in a future version.\n",
      "\u001b[2m\u001b[36m(pid=2262938)\u001b[0m Instructions for updating:\n",
      "\u001b[2m\u001b[36m(pid=2262938)\u001b[0m experimental_relax_shapes is deprecated, use reduce_retracing instead\n",
      "\u001b[2m\u001b[36m(RolloutWorker pid=2262938)\u001b[0m /home/lunet/cocp5/.conda/envs/rllib20a/lib/python3.9/site-packages/gym/core.py:172: DeprecationWarning: \u001b[33mWARN: Function `env.seed(seed)` is marked as deprecated and will be removed in the future. Please use `env.reset(seed=seed) instead.\u001b[0m\n",
      "\u001b[2m\u001b[36m(RolloutWorker pid=2262938)\u001b[0m   deprecation(\n"
     ]
    },
    {
     "name": "stdout",
     "output_type": "stream",
     "text": [
      "\u001b[2m\u001b[36m(RolloutWorker pid=2262938)\u001b[0m ---------------------------------------------------\n",
      "\u001b[2m\u001b[36m(RolloutWorker pid=2262938)\u001b[0m              The CT-graph environments             \n",
      "\u001b[2m\u001b[36m(RolloutWorker pid=2262938)\u001b[0m ---------------------------------------------------\n",
      "\u001b[2m\u001b[36m(RolloutWorker pid=2262938)\u001b[0m Reading configuration parameters from  /home/lunet/cocp5/Documents/rllib20/graph09.json\n",
      "\u001b[2m\u001b[36m(RolloutWorker pid=2262938)\u001b[0m {\n",
      "\u001b[2m\u001b[36m(RolloutWorker pid=2262938)\u001b[0m    \"general_seed\": 3,\n",
      "\u001b[2m\u001b[36m(RolloutWorker pid=2262938)\u001b[0m    \"graph_shape\": {\n",
      "\u001b[2m\u001b[36m(RolloutWorker pid=2262938)\u001b[0m       \"depth\": 2,\n",
      "\u001b[2m\u001b[36m(RolloutWorker pid=2262938)\u001b[0m       \"branching_factor\": 2,\n",
      "\u001b[2m\u001b[36m(RolloutWorker pid=2262938)\u001b[0m       \"wait_prob\": 0.5\n",
      "\u001b[2m\u001b[36m(RolloutWorker pid=2262938)\u001b[0m    },\n",
      "\u001b[2m\u001b[36m(RolloutWorker pid=2262938)\u001b[0m    \"reward\": {\n",
      "\u001b[2m\u001b[36m(RolloutWorker pid=2262938)\u001b[0m       \"high_reward_value\": 1.0,\n",
      "\u001b[2m\u001b[36m(RolloutWorker pid=2262938)\u001b[0m       \"crash_reward_value\": 0.0,\n",
      "\u001b[2m\u001b[36m(RolloutWorker pid=2262938)\u001b[0m       \"stochastic_sampling\": false,\n",
      "\u001b[2m\u001b[36m(RolloutWorker pid=2262938)\u001b[0m       \"reward_std\": 0.1,\n",
      "\u001b[2m\u001b[36m(RolloutWorker pid=2262938)\u001b[0m       \"min_static_reward_episodes\": 5000,\n",
      "\u001b[2m\u001b[36m(RolloutWorker pid=2262938)\u001b[0m       \"max_static_reward_episodes\": 5001,\n",
      "\u001b[2m\u001b[36m(RolloutWorker pid=2262938)\u001b[0m       \"reward_distribution\": \"needle_in_haystack\"\n",
      "\u001b[2m\u001b[36m(RolloutWorker pid=2262938)\u001b[0m    },\n",
      "\u001b[2m\u001b[36m(RolloutWorker pid=2262938)\u001b[0m    \"observations\": {\n",
      "\u001b[2m\u001b[36m(RolloutWorker pid=2262938)\u001b[0m       \"MDP_decision_s\": true,\n",
      "\u001b[2m\u001b[36m(RolloutWorker pid=2262938)\u001b[0m       \"MDP_wait_s\": true,\n",
      "\u001b[2m\u001b[36m(RolloutWorker pid=2262938)\u001b[0m       \"wait_states\": [\n",
      "\u001b[2m\u001b[36m(RolloutWorker pid=2262938)\u001b[0m          2,\n",
      "\u001b[2m\u001b[36m(RolloutWorker pid=2262938)\u001b[0m          8\n",
      "\u001b[2m\u001b[36m(RolloutWorker pid=2262938)\u001b[0m       ],\n",
      "\u001b[2m\u001b[36m(RolloutWorker pid=2262938)\u001b[0m       \"decision_states\": [\n",
      "\u001b[2m\u001b[36m(RolloutWorker pid=2262938)\u001b[0m          9,\n",
      "\u001b[2m\u001b[36m(RolloutWorker pid=2262938)\u001b[0m          11\n",
      "\u001b[2m\u001b[36m(RolloutWorker pid=2262938)\u001b[0m       ],\n",
      "\u001b[2m\u001b[36m(RolloutWorker pid=2262938)\u001b[0m       \"graph_ends\": [\n",
      "\u001b[2m\u001b[36m(RolloutWorker pid=2262938)\u001b[0m          12,\n",
      "\u001b[2m\u001b[36m(RolloutWorker pid=2262938)\u001b[0m          15\n",
      "\u001b[2m\u001b[36m(RolloutWorker pid=2262938)\u001b[0m       ]\n",
      "\u001b[2m\u001b[36m(RolloutWorker pid=2262938)\u001b[0m    },\n",
      "\u001b[2m\u001b[36m(RolloutWorker pid=2262938)\u001b[0m    \"image_dataset\": {\n",
      "\u001b[2m\u001b[36m(RolloutWorker pid=2262938)\u001b[0m       \"seed\": 1,\n",
      "\u001b[2m\u001b[36m(RolloutWorker pid=2262938)\u001b[0m       \"1D\": false,\n",
      "\u001b[2m\u001b[36m(RolloutWorker pid=2262938)\u001b[0m       \"nr_of_images\": 16,\n",
      "\u001b[2m\u001b[36m(RolloutWorker pid=2262938)\u001b[0m       \"noise_on_images_on_read\": 0,\n",
      "\u001b[2m\u001b[36m(RolloutWorker pid=2262938)\u001b[0m       \"small_rotation_on_read\": 1\n",
      "\u001b[2m\u001b[36m(RolloutWorker pid=2262938)\u001b[0m    }\n",
      "\u001b[2m\u001b[36m(RolloutWorker pid=2262938)\u001b[0m }\n",
      "\u001b[2m\u001b[36m(RolloutWorker pid=2262938)\u001b[0m ---------------------------------------------------\n",
      "\u001b[2m\u001b[36m(RolloutWorker pid=2262938)\u001b[0m              The CT-graph environments             \n",
      "\u001b[2m\u001b[36m(RolloutWorker pid=2262938)\u001b[0m ---------------------------------------------------\n",
      "\u001b[2m\u001b[36m(RolloutWorker pid=2262938)\u001b[0m ---------------------------------------------------\n",
      "\u001b[2m\u001b[36m(RolloutWorker pid=2262938)\u001b[0m This instance of CT-graph has\n",
      "\u001b[2m\u001b[36m(RolloutWorker pid=2262938)\u001b[0m - 2 sequential decision state(s)\n",
      "\u001b[2m\u001b[36m(RolloutWorker pid=2262938)\u001b[0m - 3 sequential wait states\n",
      "\u001b[2m\u001b[36m(RolloutWorker pid=2262938)\u001b[0m - 4 leaf nodes (ends)\n",
      "\u001b[2m\u001b[36m(RolloutWorker pid=2262938)\u001b[0m - 16 total states\n",
      "\u001b[2m\u001b[36m(RolloutWorker pid=2262938)\u001b[0m - 7 total wait states\n",
      "\u001b[2m\u001b[36m(RolloutWorker pid=2262938)\u001b[0m - 3 total decision points\n",
      "\u001b[2m\u001b[36m(RolloutWorker pid=2262938)\u001b[0m ---------------------------------------------------\n",
      "\u001b[2m\u001b[36m(PPO pid=2262405)\u001b[0m ---------------------------------------------------\n",
      "\u001b[2m\u001b[36m(PPO pid=2262405)\u001b[0m              The CT-graph environments             \n",
      "\u001b[2m\u001b[36m(PPO pid=2262405)\u001b[0m ---------------------------------------------------\n",
      "\u001b[2m\u001b[36m(PPO pid=2262405)\u001b[0m Reading configuration parameters from  /home/lunet/cocp5/Documents/rllib20/graph09.json\n",
      "\u001b[2m\u001b[36m(PPO pid=2262405)\u001b[0m {\n",
      "\u001b[2m\u001b[36m(PPO pid=2262405)\u001b[0m    \"general_seed\": 3,\n",
      "\u001b[2m\u001b[36m(PPO pid=2262405)\u001b[0m    \"graph_shape\": {\n",
      "\u001b[2m\u001b[36m(PPO pid=2262405)\u001b[0m       \"depth\": 2,\n",
      "\u001b[2m\u001b[36m(PPO pid=2262405)\u001b[0m       \"branching_factor\": 2,\n",
      "\u001b[2m\u001b[36m(PPO pid=2262405)\u001b[0m       \"wait_prob\": 0.5\n",
      "\u001b[2m\u001b[36m(PPO pid=2262405)\u001b[0m    },\n",
      "\u001b[2m\u001b[36m(PPO pid=2262405)\u001b[0m    \"reward\": {\n",
      "\u001b[2m\u001b[36m(PPO pid=2262405)\u001b[0m       \"high_reward_value\": 1.0,\n",
      "\u001b[2m\u001b[36m(PPO pid=2262405)\u001b[0m       \"crash_reward_value\": 0.0,\n",
      "\u001b[2m\u001b[36m(PPO pid=2262405)\u001b[0m       \"stochastic_sampling\": false,\n",
      "\u001b[2m\u001b[36m(PPO pid=2262405)\u001b[0m       \"reward_std\": 0.1,\n",
      "\u001b[2m\u001b[36m(PPO pid=2262405)\u001b[0m       \"min_static_reward_episodes\": 5000,\n",
      "\u001b[2m\u001b[36m(PPO pid=2262405)\u001b[0m       \"max_static_reward_episodes\": 5001,\n",
      "\u001b[2m\u001b[36m(PPO pid=2262405)\u001b[0m       \"reward_distribution\": \"needle_in_haystack\"\n",
      "\u001b[2m\u001b[36m(PPO pid=2262405)\u001b[0m    },\n",
      "\u001b[2m\u001b[36m(PPO pid=2262405)\u001b[0m    \"observations\": {\n",
      "\u001b[2m\u001b[36m(PPO pid=2262405)\u001b[0m       \"MDP_decision_s\": true,\n",
      "\u001b[2m\u001b[36m(PPO pid=2262405)\u001b[0m       \"MDP_wait_s\": true,\n",
      "\u001b[2m\u001b[36m(PPO pid=2262405)\u001b[0m       \"wait_states\": [\n",
      "\u001b[2m\u001b[36m(PPO pid=2262405)\u001b[0m          2,\n",
      "\u001b[2m\u001b[36m(PPO pid=2262405)\u001b[0m          8\n",
      "\u001b[2m\u001b[36m(PPO pid=2262405)\u001b[0m       ],\n",
      "\u001b[2m\u001b[36m(PPO pid=2262405)\u001b[0m       \"decision_states\": [\n",
      "\u001b[2m\u001b[36m(PPO pid=2262405)\u001b[0m          9,\n",
      "\u001b[2m\u001b[36m(PPO pid=2262405)\u001b[0m          11\n",
      "\u001b[2m\u001b[36m(PPO pid=2262405)\u001b[0m       ],\n",
      "\u001b[2m\u001b[36m(PPO pid=2262405)\u001b[0m       \"graph_ends\": [\n",
      "\u001b[2m\u001b[36m(PPO pid=2262405)\u001b[0m          12,\n",
      "\u001b[2m\u001b[36m(PPO pid=2262405)\u001b[0m          15\n",
      "\u001b[2m\u001b[36m(PPO pid=2262405)\u001b[0m       ]\n",
      "\u001b[2m\u001b[36m(PPO pid=2262405)\u001b[0m    },\n",
      "\u001b[2m\u001b[36m(PPO pid=2262405)\u001b[0m    \"image_dataset\": {\n",
      "\u001b[2m\u001b[36m(PPO pid=2262405)\u001b[0m       \"seed\": 1,\n",
      "\u001b[2m\u001b[36m(PPO pid=2262405)\u001b[0m       \"1D\": false,\n",
      "\u001b[2m\u001b[36m(PPO pid=2262405)\u001b[0m       \"nr_of_images\": 16,\n",
      "\u001b[2m\u001b[36m(PPO pid=2262405)\u001b[0m       \"noise_on_images_on_read\": 0,\n",
      "\u001b[2m\u001b[36m(PPO pid=2262405)\u001b[0m       \"small_rotation_on_read\": 1\n",
      "\u001b[2m\u001b[36m(PPO pid=2262405)\u001b[0m    }\n",
      "\u001b[2m\u001b[36m(PPO pid=2262405)\u001b[0m }\n",
      "\u001b[2m\u001b[36m(PPO pid=2262405)\u001b[0m ---------------------------------------------------\n",
      "\u001b[2m\u001b[36m(PPO pid=2262405)\u001b[0m              The CT-graph environments             \n",
      "\u001b[2m\u001b[36m(PPO pid=2262405)\u001b[0m ---------------------------------------------------\n",
      "\u001b[2m\u001b[36m(PPO pid=2262405)\u001b[0m ---------------------------------------------------\n",
      "\u001b[2m\u001b[36m(PPO pid=2262405)\u001b[0m This instance of CT-graph has\n",
      "\u001b[2m\u001b[36m(PPO pid=2262405)\u001b[0m - 2 sequential decision state(s)\n",
      "\u001b[2m\u001b[36m(PPO pid=2262405)\u001b[0m - 3 sequential wait states\n",
      "\u001b[2m\u001b[36m(PPO pid=2262405)\u001b[0m - 4 leaf nodes (ends)\n",
      "\u001b[2m\u001b[36m(PPO pid=2262405)\u001b[0m - 16 total states\n",
      "\u001b[2m\u001b[36m(PPO pid=2262405)\u001b[0m - 7 total wait states\n",
      "\u001b[2m\u001b[36m(PPO pid=2262405)\u001b[0m - 3 total decision points\n",
      "\u001b[2m\u001b[36m(PPO pid=2262405)\u001b[0m ---------------------------------------------------\n"
     ]
    },
    {
     "name": "stderr",
     "output_type": "stream",
     "text": [
      "\u001b[2m\u001b[36m(PPO pid=2262405)\u001b[0m /home/lunet/cocp5/.conda/envs/rllib20a/lib/python3.9/site-packages/gym/core.py:172: DeprecationWarning: \u001b[33mWARN: Function `env.seed(seed)` is marked as deprecated and will be removed in the future. Please use `env.reset(seed=seed) instead.\u001b[0m\n",
      "\u001b[2m\u001b[36m(PPO pid=2262405)\u001b[0m   deprecation(\n",
      "\u001b[2m\u001b[36m(PPO pid=2262405)\u001b[0m 2023-02-24 18:34:32,630\tINFO trainable.py:172 -- Trainable.setup took 10.812 seconds. If your trainable is slow to initialize, consider setting reuse_actors=True to reduce actor creation overheads.\n",
      "\u001b[2m\u001b[36m(PPO pid=2262405)\u001b[0m 2023-02-24 18:34:32,630\tWARNING util.py:66 -- Install gputil for GPU system monitoring.\n"
     ]
    },
    {
     "data": {
      "text/html": [
       "<div class=\"trialProgress\">\n",
       "  <h3>Trial Progress</h3>\n",
       "  <table>\n",
       "<thead>\n",
       "<tr><th>Trial name                                  </th><th style=\"text-align: right;\">  agent_timesteps_total</th><th>counters                                                                                                                                </th><th>custom_metrics  </th><th>date               </th><th>done  </th><th style=\"text-align: right;\">  episode_len_mean</th><th>episode_media  </th><th style=\"text-align: right;\">  episode_reward_max</th><th style=\"text-align: right;\">  episode_reward_mean</th><th style=\"text-align: right;\">  episode_reward_min</th><th style=\"text-align: right;\">  episodes_this_iter</th><th style=\"text-align: right;\">  episodes_total</th><th>evaluation                                                                                                                                                                                                                                                                                                                                                                                                                                                                                                                                                                                                                                                                                                                                                                                           </th><th>experiment_id                   </th><th>hostname                     </th><th>info                                                                                                                                                                                                                                                                                                                                                                                                                                                                                                                                                                                                                                                                                                                                      </th><th style=\"text-align: right;\">  iterations_since_restore</th><th>node_ip       </th><th style=\"text-align: right;\">  num_agent_steps_sampled</th><th style=\"text-align: right;\">  num_agent_steps_trained</th><th style=\"text-align: right;\">  num_env_steps_sampled</th><th style=\"text-align: right;\">  num_env_steps_sampled_this_iter</th><th style=\"text-align: right;\">  num_env_steps_trained</th><th style=\"text-align: right;\">  num_env_steps_trained_this_iter</th><th style=\"text-align: right;\">  num_faulty_episodes</th><th style=\"text-align: right;\">  num_healthy_workers</th><th style=\"text-align: right;\">  num_in_flight_async_reqs</th><th style=\"text-align: right;\">  num_remote_worker_restarts</th><th style=\"text-align: right;\">  num_steps_trained_this_iter</th><th>perf                                              </th><th style=\"text-align: right;\">    pid</th><th>policy_reward_max  </th><th>policy_reward_mean  </th><th>policy_reward_min  </th><th>sampler_perf                                                                                                                                                                                                     </th><th>sampler_results                                                                                                                                                                                                                                                                                                                                                                                                                                                                                                                                                                                                                                                                                                                                                                                                                                                                                                                                                                                                                                                                                                                                                                                                                                                                                                                                                                                                                                                                                                                                                                                                                                                                                                                                                                                                                                                                                                                                                                                                           </th><th style=\"text-align: right;\">  time_since_restore</th><th style=\"text-align: right;\">  time_this_iter_s</th><th style=\"text-align: right;\">  time_total_s</th><th>timers                                                                                                                                                                                 </th><th style=\"text-align: right;\">  timestamp</th><th style=\"text-align: right;\">  timesteps_since_restore</th><th style=\"text-align: right;\">  timesteps_total</th><th style=\"text-align: right;\">  training_iteration</th><th>trial_id   </th><th style=\"text-align: right;\">  warmup_time</th></tr>\n",
       "</thead>\n",
       "<tbody>\n",
       "<tr><td>PPO_CT-Graph_d2_b2_wp05_crv0_MDP_d76fc_00000</td><td style=\"text-align: right;\">                 317952</td><td>{&#x27;num_env_steps_sampled&#x27;: 317952, &#x27;num_env_steps_trained&#x27;: 317952, &#x27;num_agent_steps_sampled&#x27;: 317952, &#x27;num_agent_steps_trained&#x27;: 317952}</td><td>{}              </td><td>2023-02-24_18-45-08</td><td>False </td><td style=\"text-align: right;\">            2.9883</td><td>{}             </td><td style=\"text-align: right;\">                   0</td><td style=\"text-align: right;\">                    0</td><td style=\"text-align: right;\">                   0</td><td style=\"text-align: right;\">                 171</td><td style=\"text-align: right;\">           39925</td><td>{&#x27;episode_reward_max&#x27;: 0.0, &#x27;episode_reward_min&#x27;: 0.0, &#x27;episode_reward_mean&#x27;: 0.0, &#x27;episode_len_mean&#x27;: 2.5, &#x27;episode_media&#x27;: {}, &#x27;episodes_this_iter&#x27;: 2, &#x27;policy_reward_min&#x27;: {}, &#x27;policy_reward_max&#x27;: {}, &#x27;policy_reward_mean&#x27;: {}, &#x27;custom_metrics&#x27;: {}, &#x27;hist_stats&#x27;: {&#x27;episode_reward&#x27;: [0.0, 0.0], &#x27;episode_lengths&#x27;: [2, 3]}, &#x27;sampler_perf&#x27;: {&#x27;mean_raw_obs_processing_ms&#x27;: 0.28263861512600524, &#x27;mean_inference_ms&#x27;: 0.7838638088377607, &#x27;mean_action_processing_ms&#x27;: 0.040064897927297866, &#x27;mean_env_wait_ms&#x27;: 0.29244994897193427, &#x27;mean_env_render_ms&#x27;: 0.0}, &#x27;num_faulty_episodes&#x27;: 0, &#x27;num_agent_steps_sampled_this_iter&#x27;: 5, &#x27;num_env_steps_sampled_this_iter&#x27;: 5, &#x27;timesteps_this_iter&#x27;: 5, &#x27;num_healthy_workers&#x27;: 0, &#x27;num_in_flight_async_reqs&#x27;: 0, &#x27;num_remote_worker_restarts&#x27;: 0}</td><td>e6d54482566e4f5d8b9b6ebade7556f7</td><td>lnx-grid-19.lunet.lboro.ac.uk</td><td>{&#x27;learner&#x27;: {&#x27;default_policy&#x27;: {&#x27;learner_stats&#x27;: {&#x27;allreduce_latency&#x27;: 0.0, &#x27;grad_gnorm&#x27;: 1.1333811011863872, &#x27;cur_kl_coeff&#x27;: 2.4423202414465676e-131, &#x27;cur_lr&#x27;: 0.0014999999999999998, &#x27;total_loss&#x27;: 0.0017086309962905943, &#x27;policy_loss&#x27;: 0.0017518851382192224, &#x27;vf_loss&#x27;: 4.123641326847505e-06, &#x27;vf_explained_var&#x27;: -0.9904828853905201, &#x27;kl&#x27;: 0.0018772643442065405, &#x27;entropy&#x27;: 0.31589604541659355, &#x27;entropy_coeff&#x27;: 0.00015}, &#x27;model&#x27;: {}, &#x27;custom_metrics&#x27;: {}, &#x27;num_agent_steps_trained&#x27;: 64.0, &#x27;num_grad_updates_lifetime&#x27;: 39712.5, &#x27;diff_num_grad_updates_vs_sampler_policy&#x27;: 31.5}}, &#x27;num_env_steps_sampled&#x27;: 317952, &#x27;num_env_steps_trained&#x27;: 317952, &#x27;num_agent_steps_sampled&#x27;: 317952, &#x27;num_agent_steps_trained&#x27;: 317952}</td><td style=\"text-align: right;\">                       621</td><td>158.125.168.72</td><td style=\"text-align: right;\">                   317952</td><td style=\"text-align: right;\">                   317952</td><td style=\"text-align: right;\">                 317952</td><td style=\"text-align: right;\">                              512</td><td style=\"text-align: right;\">                 317952</td><td style=\"text-align: right;\">                              512</td><td style=\"text-align: right;\">                    0</td><td style=\"text-align: right;\">                    1</td><td style=\"text-align: right;\">                         0</td><td style=\"text-align: right;\">                           0</td><td style=\"text-align: right;\">                          512</td><td>{&#x27;cpu_util_percent&#x27;: 4.9, &#x27;ram_util_percent&#x27;: 7.2}</td><td style=\"text-align: right;\">2262405</td><td>{}                 </td><td>{}                  </td><td>{}                 </td><td>{&#x27;mean_raw_obs_processing_ms&#x27;: 0.3209926519873138, &#x27;mean_inference_ms&#x27;: 0.7572539836433644, &#x27;mean_action_processing_ms&#x27;: 0.03783545223367014, &#x27;mean_env_wait_ms&#x27;: 0.27734407949219225, &#x27;mean_env_render_ms&#x27;: 0.0}</td><td>{&#x27;episode_reward_max&#x27;: 0.0, &#x27;episode_reward_min&#x27;: 0.0, &#x27;episode_reward_mean&#x27;: 0.0, &#x27;episode_len_mean&#x27;: 2.9883040935672516, &#x27;episode_media&#x27;: {}, &#x27;episodes_this_iter&#x27;: 171, &#x27;policy_reward_min&#x27;: {}, &#x27;policy_reward_max&#x27;: {}, &#x27;policy_reward_mean&#x27;: {}, &#x27;custom_metrics&#x27;: {}, &#x27;hist_stats&#x27;: {&#x27;episode_reward&#x27;: [0.0, 0.0, 0.0, 0.0, 0.0, 0.0, 0.0, 0.0, 0.0, 0.0, 0.0, 0.0, 0.0, 0.0, 0.0, 0.0, 0.0, 0.0, 0.0, 0.0, 0.0, 0.0, 0.0, 0.0, 0.0, 0.0, 0.0, 0.0, 0.0, 0.0, 0.0, 0.0, 0.0, 0.0, 0.0, 0.0, 0.0, 0.0, 0.0, 0.0, 0.0, 0.0, 0.0, 0.0, 0.0, 0.0, 0.0, 0.0, 0.0, 0.0, 0.0, 0.0, 0.0, 0.0, 0.0, 0.0, 0.0, 0.0, 0.0, 0.0, 0.0, 0.0, 0.0, 0.0, 0.0, 0.0, 0.0, 0.0, 0.0, 0.0, 0.0, 0.0, 0.0, 0.0, 0.0, 0.0, 0.0, 0.0, 0.0, 0.0, 0.0, 0.0, 0.0, 0.0, 0.0, 0.0, 0.0, 0.0, 0.0, 0.0, 0.0, 0.0, 0.0, 0.0, 0.0, 0.0, 0.0, 0.0, 0.0, 0.0, 0.0, 0.0, 0.0, 0.0, 0.0, 0.0, 0.0, 0.0, 0.0, 0.0, 0.0, 0.0, 0.0, 0.0, 0.0, 0.0, 0.0, 0.0, 0.0, 0.0, 0.0, 0.0, 0.0, 0.0, 0.0, 0.0, 0.0, 0.0, 0.0, 0.0, 0.0, 0.0, 0.0, 0.0, 0.0, 0.0, 0.0, 0.0, 0.0, 0.0, 0.0, 0.0, 0.0, 0.0, 0.0, 0.0, 0.0, 0.0, 0.0, 0.0, 0.0, 0.0, 0.0, 0.0, 0.0, 0.0, 0.0, 0.0, 0.0, 0.0, 0.0, 0.0, 0.0, 0.0, 0.0, 0.0, 0.0, 0.0, 0.0, 0.0, 0.0], &#x27;episode_lengths&#x27;: [2, 2, 3, 2, 5, 4, 4, 3, 2, 4, 2, 3, 2, 3, 4, 2, 2, 2, 3, 3, 4, 4, 3, 4, 2, 4, 3, 3, 2, 4, 3, 2, 2, 4, 6, 5, 2, 4, 2, 3, 2, 3, 4, 2, 4, 4, 2, 3, 3, 4, 2, 2, 5, 7, 4, 3, 3, 4, 3, 6, 2, 2, 4, 4, 2, 4, 2, 4, 2, 4, 4, 2, 4, 5, 6, 2, 2, 2, 2, 2, 4, 4, 2, 2, 2, 4, 4, 2, 4, 2, 2, 3, 2, 4, 4, 2, 2, 4, 4, 2, 2, 3, 4, 2, 2, 2, 4, 2, 2, 4, 2, 2, 2, 2, 4, 2, 2, 2, 2, 2, 3, 2, 2, 2, 2, 5, 4, 2, 2, 2, 2, 4, 4, 2, 2, 2, 2, 3, 4, 6, 4, 4, 2, 2, 2, 4, 2, 4, 2, 2, 2, 4, 3, 5, 2, 5, 2, 5, 6, 3, 2, 5, 2, 2, 2, 2, 2, 2, 2, 4, 2]}, &#x27;sampler_perf&#x27;: {&#x27;mean_raw_obs_processing_ms&#x27;: 0.3209926519873138, &#x27;mean_inference_ms&#x27;: 0.7572539836433644, &#x27;mean_action_processing_ms&#x27;: 0.03783545223367014, &#x27;mean_env_wait_ms&#x27;: 0.27734407949219225, &#x27;mean_env_render_ms&#x27;: 0.0}, &#x27;num_faulty_episodes&#x27;: 0}</td><td style=\"text-align: right;\">             615.703</td><td style=\"text-align: right;\">            1.0401</td><td style=\"text-align: right;\">       615.703</td><td>{&#x27;training_iteration_time_ms&#x27;: 1016.283, &#x27;load_time_ms&#x27;: 0.333, &#x27;load_throughput&#x27;: 1536990.873, &#x27;learn_time_ms&#x27;: 241.994, &#x27;learn_throughput&#x27;: 2115.752, &#x27;synch_weights_time_ms&#x27;: 1.137}</td><td style=\"text-align: right;\"> 1677264308</td><td style=\"text-align: right;\">                        0</td><td style=\"text-align: right;\">           317952</td><td style=\"text-align: right;\">                 621</td><td>d76fc_00000</td><td style=\"text-align: right;\">      10.8165</td></tr>\n",
       "</tbody>\n",
       "</table>\n",
       "</div>\n",
       "<style>\n",
       ".trialProgress {\n",
       "  display: flex;\n",
       "  flex-direction: column;\n",
       "  color: var(--jp-ui-font-color1);\n",
       "}\n",
       ".trialProgress h3 {\n",
       "  font-weight: bold;\n",
       "}\n",
       ".trialProgress td {\n",
       "  white-space: nowrap;\n",
       "}\n",
       "</style>\n"
      ],
      "text/plain": [
       "<IPython.core.display.HTML object>"
      ]
     },
     "metadata": {},
     "output_type": "display_data"
    }
   ],
   "source": [
    "tune.run(\"PPO\",\n",
    "             # algorithm specific configuration\n",
    "             config={\"env\": \"CT-Graph_d2_b2_wp05_crv0_MDP\",  #\n",
    "                     \"framework\": \"torch\",\n",
    "                     \"seed\":958,\n",
    "                     #\"num_gpus\": 7,\n",
    "                     \"num_rollout_workers\": 1,\n",
    "                     \"num_envs_per_worker\": 1,\n",
    "                     \"num_gpus_per_worker\": 0,\n",
    "                     \"train_batch_size\": 512,\n",
    "                     \"use_critic\":True,\n",
    "                     \"use_gae\": True,\n",
    "                     \"lambda\": 0.99,\n",
    "                     \"sgd_minibatch_size\": 64,\n",
    "                     \"num_sgd_iter\": 8,\n",
    "                     \"shuffle_sequences\": False,\n",
    "                     \"entropy_coeff\": 0.00015,\n",
    "                     \"clip_param\": 0.1,\n",
    "                     \"grad_clip\": 5,\n",
    "                     \"lr\": 0.0015,\n",
    "                     #\"num_cpus_per_worker\": 1,\n",
    "                     #\"model\": {\"custom_model\": \"pa_model\", },\n",
    "                     \"evaluation_interval\": 1,\n",
    "                     \"evaluation_num_episodes\": 2\n",
    "                     },\n",
    "             local_dir=\"CT-Graph_d2_b2_wp05_crv0_MDP04\",  # directory to save results\n",
    "             checkpoint_freq=2,  # frequency between checkpoints\n",
    "             keep_checkpoints_num=6,\n",
    "             stop={\"timesteps_total\": 1024000}\n",
    "             )\n"
   ]
  },
  {
   "cell_type": "code",
   "execution_count": null,
   "id": "8dd1875b",
   "metadata": {},
   "outputs": [],
   "source": [
    ">>> from ray.rllib.algorithms.ddppo import DDPPOConfig\n",
    ">>> config = DDPPOConfig().training(lr=0.003, keep_local_weights_in_sync=True)\n",
    ">>> config = config.resources(num_gpus=1)\n",
    ">>> config = config.rollouts(num_rollout_workers=10)\n",
    ">>> print(config.to_dict())   \n",
    ">>> # Build a Algorithm object from the config and run 1 training iteration.\n",
    ">>> algo = config.build(env=\"CartPole-v1\")  \n",
    ">>> algo.train()  "
   ]
  },
  {
   "cell_type": "code",
   "execution_count": null,
   "id": "64bee6a0-fbb5-4ff4-a955-c31597ed6ba9",
   "metadata": {},
   "outputs": [],
   "source": []
  }
 ],
 "metadata": {
  "kernelspec": {
   "display_name": "Python 3",
   "language": "python",
   "name": "python3"
  },
  "language_info": {
   "codemirror_mode": {
    "name": "ipython",
    "version": 3
   },
   "file_extension": ".py",
   "mimetype": "text/x-python",
   "name": "python",
   "nbconvert_exporter": "python",
   "pygments_lexer": "ipython3",
   "version": "3.9.16"
  }
 },
 "nbformat": 4,
 "nbformat_minor": 5
}
